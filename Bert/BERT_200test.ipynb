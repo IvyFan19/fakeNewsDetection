{
 "cells": [
  {
   "cell_type": "code",
   "execution_count": 1,
   "metadata": {},
   "outputs": [],
   "source": [
    "import pandas as pd\n",
    "import numpy as np\n",
    "import ktrain\n",
    "from ktrain import text\n",
    "from sklearn.model_selection import train_test_split"
   ]
  },
  {
   "cell_type": "markdown",
   "metadata": {},
   "source": [
    "reference: https://github.com/amaiya/ktrain"
   ]
  },
  {
   "cell_type": "markdown",
   "metadata": {},
   "source": [
    "# Import a Small Dataset\n",
    "There are 200 items in the dataset. Lable 0 means Fakenews, and Lable 1 means Truenews."
   ]
  },
  {
   "cell_type": "code",
   "execution_count": 2,
   "metadata": {
    "colab": {},
    "colab_type": "code",
    "id": "PLZBHQbr6-p-",
    "scrolled": true
   },
   "outputs": [],
   "source": [
    "df_200 = pd.read_csv('dataset-200.csv')"
   ]
  },
  {
   "cell_type": "code",
   "execution_count": 3,
   "metadata": {
    "colab": {
     "base_uri": "https://localhost:8080/",
     "height": 191
    },
    "colab_type": "code",
    "id": "XTlf_mvt7OCa",
    "outputId": "4991a4a3-485b-4e7a-8bf2-19cd18dc2e52"
   },
   "outputs": [
    {
     "data": {
      "text/html": [
       "<div>\n",
       "<style scoped>\n",
       "    .dataframe tbody tr th:only-of-type {\n",
       "        vertical-align: middle;\n",
       "    }\n",
       "\n",
       "    .dataframe tbody tr th {\n",
       "        vertical-align: top;\n",
       "    }\n",
       "\n",
       "    .dataframe thead th {\n",
       "        text-align: right;\n",
       "    }\n",
       "</style>\n",
       "<table border=\"1\" class=\"dataframe\">\n",
       "  <thead>\n",
       "    <tr style=\"text-align: right;\">\n",
       "      <th></th>\n",
       "      <th>title</th>\n",
       "      <th>text</th>\n",
       "      <th>subject</th>\n",
       "    </tr>\n",
       "  </thead>\n",
       "  <tbody>\n",
       "    <tr>\n",
       "      <th>113</th>\n",
       "      <td>Factbox: Republican U.S. senators to watch in ...</td>\n",
       "      <td>(Reuters) - Republican Senator Rand Paul said ...</td>\n",
       "      <td>1</td>\n",
       "    </tr>\n",
       "    <tr>\n",
       "      <th>148</th>\n",
       "      <td>House ethics panel investigating allegations a...</td>\n",
       "      <td>WASHINGTON (Reuters) - The House of Representa...</td>\n",
       "      <td>1</td>\n",
       "    </tr>\n",
       "    <tr>\n",
       "      <th>8</th>\n",
       "      <td>AG Sessions Persuaded Trump To End DACA, Then...</td>\n",
       "      <td>It s certainly no secret that Jefferson Beaure...</td>\n",
       "      <td>0</td>\n",
       "    </tr>\n",
       "    <tr>\n",
       "      <th>94</th>\n",
       "      <td>Steve Mnuchin‚Äôs Spoiled Wife Just Went Apes...</td>\n",
       "      <td>Donald Trump s Treasury Secretary, former hedg...</td>\n",
       "      <td>0</td>\n",
       "    </tr>\n",
       "    <tr>\n",
       "      <th>11</th>\n",
       "      <td>Obama Pens STUNNING Response To Trump‚Äôs Col...</td>\n",
       "      <td>Trump is working his tail off to undo absolute...</td>\n",
       "      <td>0</td>\n",
       "    </tr>\n",
       "  </tbody>\n",
       "</table>\n",
       "</div>"
      ],
      "text/plain": [
       "                                                 title  \\\n",
       "113  Factbox: Republican U.S. senators to watch in ...   \n",
       "148  House ethics panel investigating allegations a...   \n",
       "8     AG Sessions Persuaded Trump To End DACA, Then...   \n",
       "94    Steve Mnuchin‚Äôs Spoiled Wife Just Went Apes...   \n",
       "11    Obama Pens STUNNING Response To Trump‚Äôs Col...   \n",
       "\n",
       "                                                  text  subject  \n",
       "113  (Reuters) - Republican Senator Rand Paul said ...        1  \n",
       "148  WASHINGTON (Reuters) - The House of Representa...        1  \n",
       "8    It s certainly no secret that Jefferson Beaure...        0  \n",
       "94   Donald Trump s Treasury Secretary, former hedg...        0  \n",
       "11   Trump is working his tail off to undo absolute...        0  "
      ]
     },
     "execution_count": 3,
     "metadata": {},
     "output_type": "execute_result"
    }
   ],
   "source": [
    "df = df_200.reindex(np.random.permutation(df_200.index))\n",
    "df.head()"
   ]
  },
  {
   "cell_type": "code",
   "execution_count": 4,
   "metadata": {
    "colab": {},
    "colab_type": "code",
    "id": "21OkqyyfceXd"
   },
   "outputs": [],
   "source": [
    "spec_chars = [\"!\",'\"',\"#\",\"%\",\"&\",\"'\",\"(\",\")\",\n",
    "              \"*\",\"+\",\",\",\"-\",\".\",\"/\",\":\",\";\",\"<\",\n",
    "              \"=\",\">\",\"?\",\"@\",\"[\",\"\\\\\",\"]\",\"^\",\"_\",\n",
    "              \"`\",\"{\",\"|\",\"}\",\"~\",\"–\"]\n",
    "for char in spec_chars:\n",
    "    df['title'] = df['title'].str.replace(char, ' ')"
   ]
  },
  {
   "cell_type": "code",
   "execution_count": 5,
   "metadata": {
    "colab": {
     "base_uri": "https://localhost:8080/",
     "height": 191
    },
    "colab_type": "code",
    "id": "QLo69CpIceks",
    "outputId": "f756b0c9-ca78-4b5c-d463-10acb34dde11"
   },
   "outputs": [
    {
     "data": {
      "text/html": [
       "<div>\n",
       "<style scoped>\n",
       "    .dataframe tbody tr th:only-of-type {\n",
       "        vertical-align: middle;\n",
       "    }\n",
       "\n",
       "    .dataframe tbody tr th {\n",
       "        vertical-align: top;\n",
       "    }\n",
       "\n",
       "    .dataframe thead th {\n",
       "        text-align: right;\n",
       "    }\n",
       "</style>\n",
       "<table border=\"1\" class=\"dataframe\">\n",
       "  <thead>\n",
       "    <tr style=\"text-align: right;\">\n",
       "      <th></th>\n",
       "      <th>title</th>\n",
       "      <th>text</th>\n",
       "      <th>subject</th>\n",
       "    </tr>\n",
       "  </thead>\n",
       "  <tbody>\n",
       "    <tr>\n",
       "      <th>113</th>\n",
       "      <td>factbox  republican u s  senators to watch in ...</td>\n",
       "      <td>(Reuters) - Republican Senator Rand Paul said ...</td>\n",
       "      <td>1</td>\n",
       "    </tr>\n",
       "    <tr>\n",
       "      <th>148</th>\n",
       "      <td>house ethics panel investigating allegations a...</td>\n",
       "      <td>WASHINGTON (Reuters) - The House of Representa...</td>\n",
       "      <td>1</td>\n",
       "    </tr>\n",
       "    <tr>\n",
       "      <th>8</th>\n",
       "      <td>ag sessions persuaded trump to end daca  then...</td>\n",
       "      <td>It s certainly no secret that Jefferson Beaure...</td>\n",
       "      <td>0</td>\n",
       "    </tr>\n",
       "    <tr>\n",
       "      <th>94</th>\n",
       "      <td>steve mnuchin‚äôs spoiled wife just went apes...</td>\n",
       "      <td>Donald Trump s Treasury Secretary, former hedg...</td>\n",
       "      <td>0</td>\n",
       "    </tr>\n",
       "    <tr>\n",
       "      <th>11</th>\n",
       "      <td>obama pens stunning response to trump‚äôs col...</td>\n",
       "      <td>Trump is working his tail off to undo absolute...</td>\n",
       "      <td>0</td>\n",
       "    </tr>\n",
       "  </tbody>\n",
       "</table>\n",
       "</div>"
      ],
      "text/plain": [
       "                                                 title  \\\n",
       "113  factbox  republican u s  senators to watch in ...   \n",
       "148  house ethics panel investigating allegations a...   \n",
       "8     ag sessions persuaded trump to end daca  then...   \n",
       "94    steve mnuchin‚äôs spoiled wife just went apes...   \n",
       "11    obama pens stunning response to trump‚äôs col...   \n",
       "\n",
       "                                                  text  subject  \n",
       "113  (Reuters) - Republican Senator Rand Paul said ...        1  \n",
       "148  WASHINGTON (Reuters) - The House of Representa...        1  \n",
       "8    It s certainly no secret that Jefferson Beaure...        0  \n",
       "94   Donald Trump s Treasury Secretary, former hedg...        0  \n",
       "11   Trump is working his tail off to undo absolute...        0  "
      ]
     },
     "execution_count": 5,
     "metadata": {},
     "output_type": "execute_result"
    }
   ],
   "source": [
    "df['title']=df['title'].str.lower()\n",
    "df.head()"
   ]
  },
  {
   "cell_type": "code",
   "execution_count": 6,
   "metadata": {
    "colab": {},
    "colab_type": "code",
    "id": "Uw3TT4MScepI"
   },
   "outputs": [],
   "source": [
    "categories = [1, 0]\n",
    "\n",
    "y = df['subject'].values\n",
    "X = df['title']\n",
    "\n",
    "X_train, X_test, y_train, y_test = train_test_split(X, y,stratify=y,test_size=0.30, random_state=0)"
   ]
  },
  {
   "cell_type": "code",
   "execution_count": 7,
   "metadata": {},
   "outputs": [
    {
     "name": "stdout",
     "output_type": "stream",
     "text": [
      "X_train.shape:  (140,)\n",
      "X_train.shape:  <class 'numpy.ndarray'>\n",
      "X_test.shape:  (60,)\n",
      "y_train.shape:  (140,)\n",
      "y_test.shape:  (60,)\n"
     ]
    }
   ],
   "source": [
    "X_train = X_train.to_numpy()\n",
    "# y_train = y_train.to_numpy()\n",
    "X_test = X_test.to_numpy()\n",
    "# y_test = y_test.to_numpy()\n",
    "\n",
    "print(\"X_train.shape: \", X_train.shape)\n",
    "print(\"X_train type: \", type(X_train))\n",
    "print(\"X_test.shape: \", X_test.shape)\n",
    "print(\"y_train.shape: \", y_train.shape)\n",
    "print(\"y_test.shape: \", y_test.shape)"
   ]
  },
  {
   "cell_type": "code",
   "execution_count": 10,
   "metadata": {
    "colab": {
     "base_uri": "https://localhost:8080/",
     "height": 131
    },
    "colab_type": "code",
    "id": "dPsV2m5pdc02",
    "outputId": "0ccf6738-943a-4751-c7c9-c19cc90ec7c8",
    "scrolled": true
   },
   "outputs": [
    {
     "name": "stdout",
     "output_type": "stream",
     "text": [
      "preprocessing train...\n",
      "language: en\n"
     ]
    },
    {
     "data": {
      "text/html": [
       "done."
      ],
      "text/plain": [
       "<IPython.core.display.HTML object>"
      ]
     },
     "metadata": {},
     "output_type": "display_data"
    },
    {
     "name": "stdout",
     "output_type": "stream",
     "text": [
      "Is Multi-Label? False\n",
      "preprocessing test...\n",
      "language: en\n"
     ]
    },
    {
     "data": {
      "text/html": [
       "done."
      ],
      "text/plain": [
       "<IPython.core.display.HTML object>"
      ]
     },
     "metadata": {},
     "output_type": "display_data"
    },
    {
     "name": "stdout",
     "output_type": "stream",
     "text": [
      "task: text classification\n"
     ]
    }
   ],
   "source": [
    "(x_train,  y_train), (x_test, y_test), preproc = text.texts_from_array(x_train=X_train, y_train=y_train,\n",
    "                                                                       x_test=X_test, y_test=y_test,\n",
    "                                                                       class_names=categories,\n",
    "                                                                       preprocess_mode='bert',\n",
    "                                                                       maxlen=350, \n",
    "                                                                       max_features=35000)"
   ]
  },
  {
   "cell_type": "code",
   "execution_count": 11,
   "metadata": {
    "colab": {
     "base_uri": "https://localhost:8080/",
     "height": 66
    },
    "colab_type": "code",
    "id": "uGhwQBQ-djau",
    "outputId": "23ae6d1c-acb1-452b-f89b-a498410e76cb"
   },
   "outputs": [
    {
     "name": "stdout",
     "output_type": "stream",
     "text": [
      "Is Multi-Label? False\n",
      "maxlen is 350\n",
      "done.\n"
     ]
    }
   ],
   "source": [
    "model = text.text_classifier('bert', train_data=(x_train, y_train), preproc=preproc)\n",
    "learner = ktrain.get_learner(model, train_data=(x_train, y_train), batch_size=6)"
   ]
  },
  {
   "cell_type": "code",
   "execution_count": 12,
   "metadata": {
    "colab": {
     "base_uri": "https://localhost:8080/",
     "height": 115
    },
    "colab_type": "code",
    "id": "78oetXwpdsoy",
    "outputId": "882a3b6b-31c5-4d31-cc27-6b70adef9990"
   },
   "outputs": [
    {
     "name": "stdout",
     "output_type": "stream",
     "text": [
      "\n",
      "\n",
      "begin training using onecycle policy with max lr of 2e-05...\n",
      "Epoch 1/10\n",
      "24/24 [==============================] - 159s 6s/step - loss: 0.6724 - accuracy: 0.6151\n",
      "Epoch 2/10\n",
      "24/24 [==============================] - 141s 6s/step - loss: 0.5313 - accuracy: 0.8450\n",
      "Epoch 3/10\n",
      "24/24 [==============================] - 142s 6s/step - loss: 0.2540 - accuracy: 0.9341\n",
      "Epoch 4/10\n",
      "24/24 [==============================] - 143s 6s/step - loss: 0.0966 - accuracy: 0.9831\n",
      "Epoch 5/10\n",
      "24/24 [==============================] - 139s 6s/step - loss: 0.0288 - accuracy: 1.0000\n",
      "Epoch 6/10\n",
      "24/24 [==============================] - 139s 6s/step - loss: 0.0105 - accuracy: 1.0000\n",
      "Epoch 7/10\n",
      "24/24 [==============================] - 138s 6s/step - loss: 0.0053 - accuracy: 1.0000\n",
      "Epoch 8/10\n",
      "24/24 [==============================] - 139s 6s/step - loss: 0.0052 - accuracy: 1.0000\n",
      "Epoch 9/10\n",
      "24/24 [==============================] - 189s 8s/step - loss: 0.0034 - accuracy: 1.0000\n",
      "Epoch 10/10\n",
      "24/24 [==============================] - 138s 6s/step - loss: 0.0031 - accuracy: 1.0000\n"
     ]
    },
    {
     "data": {
      "text/plain": [
       "<tensorflow.python.keras.callbacks.History at 0x7f9f5068d1c0>"
      ]
     },
     "execution_count": 12,
     "metadata": {},
     "output_type": "execute_result"
    }
   ],
   "source": [
    "learner.fit_onecycle(2e-5, 10)"
   ]
  },
  {
   "cell_type": "markdown",
   "metadata": {
    "colab_type": "text",
    "id": "j8tGt5p9feiu"
   },
   "source": [
    "We can use the learner.validate method to test our model against the Test set."
   ]
  },
  {
   "cell_type": "code",
   "execution_count": 16,
   "metadata": {
    "colab": {
     "base_uri": "https://localhost:8080/",
     "height": 196
    },
    "colab_type": "code",
    "id": "HyxcvUSjdxp4",
    "outputId": "4d5caf67-3ccd-46ba-c8a9-2efd63de8381"
   },
   "outputs": [
    {
     "name": "stdout",
     "output_type": "stream",
     "text": [
      "              precision    recall  f1-score   support\n",
      "\n",
      "           1       0.93      0.87      0.90        30\n",
      "           0       0.88      0.93      0.90        30\n",
      "\n",
      "    accuracy                           0.90        60\n",
      "   macro avg       0.90      0.90      0.90        60\n",
      "weighted avg       0.90      0.90      0.90        60\n",
      "\n"
     ]
    },
    {
     "data": {
      "text/plain": [
       "array([[26,  4],\n",
       "       [ 2, 28]])"
      ]
     },
     "execution_count": 16,
     "metadata": {},
     "output_type": "execute_result"
    }
   ],
   "source": [
    "learner.validate(val_data=(x_test, y_test), class_names=categories)"
   ]
  }
 ],
 "metadata": {
  "accelerator": "GPU",
  "colab": {
   "name": "fake news classification using BERT.ipynb",
   "provenance": []
  },
  "kernelspec": {
   "display_name": "Python 3",
   "language": "python",
   "name": "python3"
  },
  "language_info": {
   "codemirror_mode": {
    "name": "ipython",
    "version": 3
   },
   "file_extension": ".py",
   "mimetype": "text/x-python",
   "name": "python",
   "nbconvert_exporter": "python",
   "pygments_lexer": "ipython3",
   "version": "3.8.5"
  }
 },
 "nbformat": 4,
 "nbformat_minor": 1
}
